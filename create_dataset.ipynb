{
 "cells": [
  {
   "source": [
    "# Init"
   ],
   "cell_type": "markdown",
   "metadata": {}
  },
  {
   "cell_type": "code",
   "execution_count": 33,
   "metadata": {},
   "outputs": [],
   "source": [
    "from PIL import Image\n",
    "import os\n",
    "import numpy as np\n",
    "from random import randint, randrange\n",
    "import glob\n",
    "from math import floor"
   ]
  },
  {
   "cell_type": "code",
   "execution_count": 19,
   "metadata": {},
   "outputs": [],
   "source": [
    "# folder for single stone images\n",
    "direc = r\"\"\n",
    "os.chdir(direc)"
   ]
  },
  {
   "cell_type": "code",
   "execution_count": 20,
   "metadata": {},
   "outputs": [],
   "source": [
    "# load single stone images.\n",
    "s = '.png'\n",
    "stoneImL = []\n",
    "# for i in range(0,39):\n",
    "for filename in glob.glob(\"*\"):\n",
    "# do not use glob if file name ordering is required\n",
    "#     loc = str(i)+s\n",
    "#     im=Image.open(loc)\n",
    "    im = Image.open(filename)\n",
    "    stoneImL.append(im)"
   ]
  },
  {
   "cell_type": "code",
   "execution_count": 15,
   "metadata": {},
   "outputs": [],
   "source": [
    "# folder for base stones\n",
    "direc = r\"\"\n",
    "os.chdir(direc)"
   ]
  },
  {
   "cell_type": "code",
   "execution_count": 16,
   "metadata": {},
   "outputs": [],
   "source": [
    "# load base stone images.\n",
    "s = '.png'\n",
    "baseImL = []\n",
    "for filename in glob.glob(\"*\"):\n",
    "# do not use glob if file name ordering is required\n",
    "#     loc = str(i)+s\n",
    "#     im=Image.open(loc)\n",
    "    im = Image.open(filename)\n",
    "    baseImL.append(im)"
   ]
  },
  {
   "cell_type": "code",
   "execution_count": null,
   "metadata": {},
   "outputs": [],
   "source": [
    "#return top left corner of paste box\n",
    "def getBox(img, x, y):\n",
    "    box = randint(1,4)\n",
    "    w,h = img.size\n",
    "    if box == 4:\n",
    "        return x,y\n",
    "    elif box == 1:\n",
    "        return x-w, y-h\n",
    "    elif box == 2:\n",
    "        return x,y-h\n",
    "    else:\n",
    "        return x-w,y\n",
    "        "
   ]
  },
  {
   "source": [
    "# Generate images with black background"
   ],
   "cell_type": "markdown",
   "metadata": {}
  },
  {
   "cell_type": "code",
   "execution_count": null,
   "metadata": {},
   "outputs": [],
   "source": [
    "lenStone = len(stoneImL)"
   ]
  },
  {
   "cell_type": "code",
   "execution_count": 4,
   "metadata": {},
   "outputs": [],
   "source": [
    "# size and number of panel target image can be divided\n",
    "cWidth = 100\n",
    "num = 8\n",
    "# min rotation angle\n",
    "rAngle = 60\n",
    "imageStart = 0\n",
    "imageEnd = 20,000"
   ]
  },
  {
   "cell_type": "code",
   "execution_count": 5,
   "metadata": {},
   "outputs": [],
   "source": [
    "# generate random images, black background.\n",
    "\n",
    "# pos = 0\n",
    "direc = r\"\"\n",
    "os.chdir(direc)\n",
    "for k in range(imageStart, imageEnd):\n",
    "    imgB = Image.new('RGBA', (cWidth*num, cWidth*num), 'black')\n",
    "    for i in range(1,num+1):\n",
    "        for j in range(1,num+1):\n",
    "#             select random stone\n",
    "            pos = randrange(0,lenStone)\n",
    "            imS = stoneImL[pos]\n",
    "#     select random size\n",
    "            size = randint(1,5)\n",
    "#     select random orientaion\n",
    "            rot = randint(0,5)\n",
    "#    displacement noise in image positions\n",
    "            wNoise = randint(-int(cWidth/4), int(cWidth/4))\n",
    "            hNoise = randint(-int(cWidth/4), int(cWidth/4))\n",
    "            if(size == 5): ## size 5 means no image,\n",
    "                continue\n",
    "            w, h = imS.size\n",
    "            pstIm = imS.resize( (int(w/(2*size)),int(h/(2*size)) ), Image.ANTIALIAS)\n",
    "            pstIm = pstIm.rotate(rot*rAngle, expand = 1)\n",
    "            \n",
    "            x = int(cWidth*i-cWidth/2 + wNoise)\n",
    "            y = int(cWidth*j-cWidth/2 + hNoise)\n",
    "#     paste position is divided into 4 rectangle with x,y being top left or top right or.... vertice\n",
    "#     of different rectangles, use get box to choose one of them \n",
    "            x1,y1 = getBox(pstIm, x, y)\n",
    "            imgB.paste(pstIm, (x1, y1), pstIm.split()[3])\n",
    "    loc = str(k) + s\n",
    "    img.save(loc, \"PNG\")"
   ]
  },
  {
   "source": [
    "# Generate images with stone background"
   ],
   "cell_type": "markdown",
   "metadata": {}
  },
  {
   "cell_type": "code",
   "execution_count": 34,
   "metadata": {},
   "outputs": [],
   "source": [
    "# size and number of panel target image can be divided\n",
    "cWidth = 100\n",
    "baseW,_ = baseImL[0].size\n",
    "num = floor(baseW/cWidth)\n",
    "# min rotation angle\n",
    "rAngle = 60\n",
    "imageStart = 0\n",
    "imageEnd = 20,000"
   ]
  },
  {
   "cell_type": "code",
   "execution_count": 21,
   "metadata": {},
   "outputs": [],
   "source": [
    "lenBase = len(baseImL)\n",
    "lenStone = len(stoneImL)"
   ]
  },
  {
   "cell_type": "code",
   "execution_count": 174,
   "metadata": {},
   "outputs": [],
   "source": [
    "# generate random images, base stone background.\n",
    "\n",
    "# pos = 0\n",
    "direc = r\"\"\n",
    "os.chdir(direc)\n",
    "for k in range(imageStart, imageEnd):\n",
    "    pos = randrange(0, lenBase)\n",
    "    imgB = baseImL[pos].copy()\n",
    "    for i in range(1,num+1):\n",
    "        for j in range(1,num+1):\n",
    "#             select random stone\n",
    "            pos = randrange(0,lenStone)\n",
    "            imS = stoneImL[pos]\n",
    "#     select random size\n",
    "            size = randint(1,5)\n",
    "#     select random orientaion\n",
    "            rot = randint(0,5)\n",
    "#    displacement noise in image positions\n",
    "            wNoise = randint(-int(cWidth/4), int(cWidth/4))\n",
    "            hNoise = randint(-int(cWidth/4), int(cWidth/4))\n",
    "            if(size == 5): ## size 5 means no image,\n",
    "                continue\n",
    "            w, h = imS.size\n",
    "            pstIm = imS.resize( (int(w/(2*size)),int(h/(2*size)) ), Image.ANTIALIAS)\n",
    "\n",
    "# Expand = 1 does lead increase in image size with every rotation, increase is not too large for single rotation\n",
    "            pstIm = pstIm.rotate(rot*rAngle, expand = 1)\n",
    "            \n",
    "            x = int(cWidth*i-cWidth/2 + wNoise)\n",
    "            y = int(cWidth*j-cWidth/2 + hNoise)\n",
    "#     paste position is divided into 4 rectangle with x,y being top left or top right or.... vertice\n",
    "#     of different rectangles, use get box to choose one of them \n",
    "            x1,y1 = getBox(pstIm, x, y)\n",
    "            imgB.paste(pstIm, (x1, y1), pstIm.split()[3])\n",
    "    loc = str(k) + s\n",
    "    imgB.save(loc, \"PNG\")"
   ]
  },
  {
   "source": [
    "# Concatenate contour and target image"
   ],
   "cell_type": "markdown",
   "metadata": {}
  },
  {
   "cell_type": "code",
   "execution_count": 176,
   "metadata": {},
   "outputs": [],
   "source": [
    "def get_concat_h(im1, im2):\n",
    "    dst = Image.new('RGB', (im1.width + im2.width, im1.height))\n",
    "    dst.paste(im1, (0, 0))\n",
    "    dst.paste(im2, (im1.width, 0))\n",
    "    return dst"
   ]
  },
  {
   "cell_type": "code",
   "execution_count": 177,
   "metadata": {},
   "outputs": [],
   "source": [
    "# join image and contour \n",
    "\n",
    "# target image folder\n",
    "loc2 = r\"......\\imNew\\\\\"\n",
    "\n",
    "# contour images folder\n",
    "loc1 = r'.......\\imNewEdge\\\\'\n",
    "\n",
    "# output folder\n",
    "locO = r\"........\\imCombNew\\\\\"\n",
    "s = '.png'\n",
    "for k in range(0,500):\n",
    "    inL1 = loc1 + str(k) + s\n",
    "    inL2 = loc2 + str(k) + s\n",
    "    inF1 = Image.open(inL1)\n",
    "    inF2 = Image.open(inL2)\n",
    "    \n",
    "    outF = get_concat_h(inF1, inF2)\n",
    "    outL = locO + str(k) + s\n",
    "    outF.save(outL, \"PNG\")"
   ]
  }
 ],
 "metadata": {
  "kernelspec": {
   "name": "python3",
   "display_name": "Python 3",
   "language": "python"
  },
  "language_info": {
   "codemirror_mode": {
    "name": "ipython",
    "version": 3
   },
   "file_extension": ".py",
   "mimetype": "text/x-python",
   "name": "python",
   "nbconvert_exporter": "python",
   "pygments_lexer": "ipython3",
   "version": "3.7.1-final"
  }
 },
 "nbformat": 4,
 "nbformat_minor": 2
}